{
 "cells": [
  {
   "cell_type": "code",
   "execution_count": 1,
   "metadata": {},
   "outputs": [],
   "source": [
    "import pandas as pd\n",
    "\n",
    "df = pd.read_csv('filtered/tweets.csv')\n",
    "pd.set_option('display.max_columns', None)"
   ]
  },
  {
   "cell_type": "code",
   "execution_count": 2,
   "metadata": {},
   "outputs": [
    {
     "data": {
      "text/html": [
       "<div>\n",
       "<style scoped>\n",
       "    .dataframe tbody tr th:only-of-type {\n",
       "        vertical-align: middle;\n",
       "    }\n",
       "\n",
       "    .dataframe tbody tr th {\n",
       "        vertical-align: top;\n",
       "    }\n",
       "\n",
       "    .dataframe thead th {\n",
       "        text-align: right;\n",
       "    }\n",
       "</style>\n",
       "<table border=\"1\" class=\"dataframe\">\n",
       "  <thead>\n",
       "    <tr style=\"text-align: right;\">\n",
       "      <th></th>\n",
       "      <th>created_at</th>\n",
       "      <th>user_id_str</th>\n",
       "      <th>text</th>\n",
       "      <th>coordinates</th>\n",
       "      <th>place_coordinates</th>\n",
       "      <th>place_country</th>\n",
       "      <th>place_country_code</th>\n",
       "      <th>place_full_name</th>\n",
       "      <th>place_type</th>\n",
       "      <th>language</th>\n",
       "    </tr>\n",
       "  </thead>\n",
       "  <tbody>\n",
       "    <tr>\n",
       "      <th>0</th>\n",
       "      <td>Mon Feb 10 07:00:13 +0000 2020</td>\n",
       "      <td>370524875</td>\n",
       "      <td>That's the point..of doing what you love to do...</td>\n",
       "      <td>NaN</td>\n",
       "      <td>[[[-0.2160701, 51.5098789], [-0.1301597, 51.50...</td>\n",
       "      <td>United Kingdom</td>\n",
       "      <td>GB</td>\n",
       "      <td>Paddington, London</td>\n",
       "      <td>city</td>\n",
       "      <td>en</td>\n",
       "    </tr>\n",
       "    <tr>\n",
       "      <th>1</th>\n",
       "      <td>Mon Feb 10 07:00:31 +0000 2020</td>\n",
       "      <td>992649775584546816</td>\n",
       "      <td>#Coronavirus Wuhan citizen journalist Chen Qiu...</td>\n",
       "      <td>NaN</td>\n",
       "      <td>[[[-0.1114755, 51.4194247], [-0.0297308, 51.41...</td>\n",
       "      <td>United Kingdom</td>\n",
       "      <td>GB</td>\n",
       "      <td>Camberwell, London</td>\n",
       "      <td>city</td>\n",
       "      <td>en</td>\n",
       "    </tr>\n",
       "    <tr>\n",
       "      <th>2</th>\n",
       "      <td>Mon Feb 10 07:01:02 +0000 2020</td>\n",
       "      <td>485922064</td>\n",
       "      <td>Molt bona Informació, clau per entendre on est...</td>\n",
       "      <td>NaN</td>\n",
       "      <td>[[[2.8954926, 42.2262194], [2.9358833, 42.2262...</td>\n",
       "      <td>Spain</td>\n",
       "      <td>ES</td>\n",
       "      <td>Avinyonet de Puigventós, España</td>\n",
       "      <td>city</td>\n",
       "      <td>ca</td>\n",
       "    </tr>\n",
       "    <tr>\n",
       "      <th>3</th>\n",
       "      <td>Mon Feb 10 07:01:14 +0000 2020</td>\n",
       "      <td>1084156001631252480</td>\n",
       "      <td>Yes,\\nUgandan Govt shud send them food supplie...</td>\n",
       "      <td>NaN</td>\n",
       "      <td>[[[32.1922973, -0.1477888], [32.6836991, -0.14...</td>\n",
       "      <td>Uganda</td>\n",
       "      <td>UG</td>\n",
       "      <td>Wakiso, Uganda</td>\n",
       "      <td>admin</td>\n",
       "      <td>en</td>\n",
       "    </tr>\n",
       "    <tr>\n",
       "      <th>4</th>\n",
       "      <td>Mon Feb 10 07:01:29 +0000 2020</td>\n",
       "      <td>365216346</td>\n",
       "      <td>Update - Sources on the cruise told me the Cap...</td>\n",
       "      <td>NaN</td>\n",
       "      <td>[[[121.457132, 24.960508], [121.66582, 24.9605...</td>\n",
       "      <td>Taiwan</td>\n",
       "      <td>TW</td>\n",
       "      <td>Taipei City, Taiwan</td>\n",
       "      <td>city</td>\n",
       "      <td>en</td>\n",
       "    </tr>\n",
       "  </tbody>\n",
       "</table>\n",
       "</div>"
      ],
      "text/plain": [
       "                       created_at          user_id_str  \\\n",
       "0  Mon Feb 10 07:00:13 +0000 2020            370524875   \n",
       "1  Mon Feb 10 07:00:31 +0000 2020   992649775584546816   \n",
       "2  Mon Feb 10 07:01:02 +0000 2020            485922064   \n",
       "3  Mon Feb 10 07:01:14 +0000 2020  1084156001631252480   \n",
       "4  Mon Feb 10 07:01:29 +0000 2020            365216346   \n",
       "\n",
       "                                                text coordinates  \\\n",
       "0  That's the point..of doing what you love to do...         NaN   \n",
       "1  #Coronavirus Wuhan citizen journalist Chen Qiu...         NaN   \n",
       "2  Molt bona Informació, clau per entendre on est...         NaN   \n",
       "3  Yes,\\nUgandan Govt shud send them food supplie...         NaN   \n",
       "4  Update - Sources on the cruise told me the Cap...         NaN   \n",
       "\n",
       "                                   place_coordinates   place_country  \\\n",
       "0  [[[-0.2160701, 51.5098789], [-0.1301597, 51.50...  United Kingdom   \n",
       "1  [[[-0.1114755, 51.4194247], [-0.0297308, 51.41...  United Kingdom   \n",
       "2  [[[2.8954926, 42.2262194], [2.9358833, 42.2262...           Spain   \n",
       "3  [[[32.1922973, -0.1477888], [32.6836991, -0.14...          Uganda   \n",
       "4  [[[121.457132, 24.960508], [121.66582, 24.9605...          Taiwan   \n",
       "\n",
       "  place_country_code                  place_full_name place_type language  \n",
       "0                 GB               Paddington, London       city       en  \n",
       "1                 GB               Camberwell, London       city       en  \n",
       "2                 ES  Avinyonet de Puigventós, España       city       ca  \n",
       "3                 UG                   Wakiso, Uganda      admin       en  \n",
       "4                 TW              Taipei City, Taiwan       city       en  "
      ]
     },
     "execution_count": 2,
     "metadata": {},
     "output_type": "execute_result"
    }
   ],
   "source": [
    "df.head()"
   ]
  },
  {
   "cell_type": "code",
   "execution_count": 4,
   "metadata": {},
   "outputs": [
    {
     "data": {
      "text/plain": [
       "(452347, 10)"
      ]
     },
     "execution_count": 4,
     "metadata": {},
     "output_type": "execute_result"
    }
   ],
   "source": [
    "df.shape"
   ]
  },
  {
   "cell_type": "markdown",
   "metadata": {},
   "source": [
    "(452347, 10)"
   ]
  },
  {
   "cell_type": "code",
   "execution_count": 6,
   "metadata": {},
   "outputs": [
    {
     "data": {
      "text/plain": [
       "1216916479             638\n",
       "365216346              411\n",
       "853007708814954496     370\n",
       "32398408               366\n",
       "1316862031             365\n",
       "38659844               360\n",
       "208056970              350\n",
       "191092262              347\n",
       "235179462              308\n",
       "1093066243685392385    208\n",
       "359612102              194\n",
       "141383006              193\n",
       "34533138               183\n",
       "631142747              181\n",
       "46717886               179\n",
       "309374492              178\n",
       "500825663              178\n",
       "3193289931             175\n",
       "17670329               174\n",
       "Name: user_id_str, dtype: int64"
      ]
     },
     "execution_count": 6,
     "metadata": {},
     "output_type": "execute_result"
    }
   ],
   "source": [
    "df['user_id_str'].value_counts()[0:19]"
   ]
  },
  {
   "cell_type": "markdown",
   "metadata": {},
   "source": [
    "ID counts:\n",
    "\n",
    "1216916479             638\n",
    "365216346              411\n",
    "853007708814954496     370\n",
    "32398408               366\n",
    "1316862031             365\n",
    "38659844               360\n",
    "208056970              350\n",
    "191092262              347\n",
    "235179462              308"
   ]
  },
  {
   "cell_type": "code",
   "execution_count": 7,
   "metadata": {},
   "outputs": [
    {
     "data": {
      "text/plain": [
       "US    153153\n",
       "GB     30498\n",
       "BR     21734\n",
       "IN     16995\n",
       "PH     16523\n",
       "ID     15515\n",
       "ES     14327\n",
       "CA     12632\n",
       "IT     11552\n",
       "AR      9520\n",
       "NG      8991\n",
       "AU      8969\n",
       "MX      8858\n",
       "FR      7927\n",
       "CN      7455\n",
       "MY      7157\n",
       "ZA      6386\n",
       "CO      5862\n",
       "TR      5749\n",
       "Name: place_country_code, dtype: int64"
      ]
     },
     "execution_count": 7,
     "metadata": {},
     "output_type": "execute_result"
    }
   ],
   "source": [
    "df['place_country_code'].value_counts()[0:19]"
   ]
  },
  {
   "cell_type": "markdown",
   "metadata": {},
   "source": [
    "tweets per country:\n",
    "\n",
    "US    153153\n",
    "GB     30498\n",
    "BR     21734\n",
    "IN     16995\n",
    "PH     16523\n",
    "ID     15515\n",
    "ES     14327\n",
    "CA     12632\n",
    "IT     11552"
   ]
  },
  {
   "cell_type": "code",
   "execution_count": 9,
   "metadata": {},
   "outputs": [
    {
     "data": {
      "text/plain": [
       "Los Angeles, CA      5232\n",
       "Manhattan, NY        4259\n",
       "Florida, USA         2479\n",
       "Washington, DC       2452\n",
       "Houston, TX          2329\n",
       "Chicago, IL          2278\n",
       "San Francisco, CA    2201\n",
       "Brooklyn, NY         2165\n",
       "Georgia, USA         1945\n",
       "Texas, USA           1756\n",
       "Seattle, WA          1607\n",
       "Queens, NY           1500\n",
       "San Antonio, TX      1352\n",
       "Pennsylvania, USA    1341\n",
       "Austin, TX           1286\n",
       "California, USA      1250\n",
       "Philadelphia, PA     1194\n",
       "San Diego, CA        1169\n",
       "Atlanta, GA          1091\n",
       "Name: place_full_name, dtype: int64"
      ]
     },
     "execution_count": 9,
     "metadata": {},
     "output_type": "execute_result"
    }
   ],
   "source": [
    "df[df['place_country_code']=='US']['place_full_name'].value_counts()[0:19]"
   ]
  },
  {
   "cell_type": "markdown",
   "metadata": {},
   "source": [
    "tweets per US city:\n",
    "\n",
    "Los Angeles, CA      5232\n",
    "Manhattan, NY        4259\n",
    "Florida, USA         2479\n",
    "Washington, DC       2452\n",
    "Houston, TX          2329\n",
    "Chicago, IL          2278\n",
    "San Francisco, CA    2201\n",
    "Brooklyn, NY         2165\n",
    "Georgia, USA         1945\n",
    "Texas, USA           1756\n",
    "Seattle, WA          1607\n",
    "Queens, NY           1500\n",
    "San Antonio, TX      1352\n",
    "Pennsylvania, USA    1341\n",
    "Austin, TX           1286\n",
    "California, USA      1250\n",
    "Philadelphia, PA     1194\n",
    "San Diego, CA        1169\n",
    "Atlanta, GA          1091"
   ]
  },
  {
   "cell_type": "code",
   "execution_count": 11,
   "metadata": {},
   "outputs": [
    {
     "data": {
      "text/plain": [
       "en     272112\n",
       "es      53569\n",
       "und     31735\n",
       "pt      21357\n",
       "in      17352\n",
       "it       9756\n",
       "tl       8837\n",
       "fr       8603\n",
       "tr       5612\n",
       "de       3112\n",
       "ja       2953\n",
       "nl       2563\n",
       "ca       1792\n",
       "hi       1684\n",
       "zh       1477\n",
       "ar       1306\n",
       "th       1219\n",
       "lt        916\n",
       "ht        649\n",
       "Name: language, dtype: int64"
      ]
     },
     "execution_count": 11,
     "metadata": {},
     "output_type": "execute_result"
    }
   ],
   "source": [
    "df['language'].value_counts()[0:19]"
   ]
  },
  {
   "cell_type": "markdown",
   "metadata": {},
   "source": [
    "tweets per written language:\n",
    "en     272112\n",
    "es      53569\n",
    "und     31735\n",
    "pt      21357\n",
    "in      17352"
   ]
  }
 ],
 "metadata": {
  "kernelspec": {
   "display_name": "Python 3",
   "language": "python",
   "name": "python3"
  },
  "language_info": {
   "codemirror_mode": {
    "name": "ipython",
    "version": 3
   },
   "file_extension": ".py",
   "mimetype": "text/x-python",
   "name": "python",
   "nbconvert_exporter": "python",
   "pygments_lexer": "ipython3",
   "version": "3.7.6"
  }
 },
 "nbformat": 4,
 "nbformat_minor": 4
}
