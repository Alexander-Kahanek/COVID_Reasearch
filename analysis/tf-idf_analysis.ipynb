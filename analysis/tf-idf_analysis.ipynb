{
 "metadata": {
  "language_info": {
   "codemirror_mode": {
    "name": "ipython",
    "version": 3
   },
   "file_extension": ".py",
   "mimetype": "text/x-python",
   "name": "python",
   "nbconvert_exporter": "python",
   "pygments_lexer": "ipython3",
   "version": "3.8.3-final"
  },
  "orig_nbformat": 2,
  "kernelspec": {
   "name": "python_defaultSpec_1599498288339",
   "display_name": "Python 3.8.3 64-bit"
  }
 },
 "nbformat": 4,
 "nbformat_minor": 2,
 "cells": [
  {
   "cell_type": "code",
   "execution_count": 2,
   "metadata": {},
   "outputs": [
    {
     "output_type": "execute_result",
     "data": {
      "text/plain": "             word       sum     doc-0     doc-1     doc-2     doc-3     doc-4  \\\n0  considerations  1.264890  0.095170  0.095452  0.095184  0.000000  0.099618   \n1             for  0.000000  0.000000  0.000000  0.000000  0.000000  0.000000   \n2      preventing  1.593458  0.265986  0.266775  0.266026  0.263420  0.000000   \n3          spread  0.628614  0.037132  0.036011  0.040244  0.037296  0.000000   \n4              of  0.000000  0.000000  0.000000  0.000000  0.000000  0.000000   \n\n      doc-5     doc-6     doc-7  ...    doc-10    doc-11    doc-12    doc-13  \\\n0  0.094418  0.097524  0.104742  ...  0.098532  0.000000  0.097834  0.000000   \n1  0.000000  0.000000  0.000000  ...  0.000000  0.000000  0.000000  0.000000   \n2  0.266326  0.000000  0.000000  ...  0.264925  0.000000  0.000000  0.000000   \n3  0.035950  0.039045  0.035539  ...  0.000000  0.036803  0.037557  0.037188   \n4  0.000000  0.000000  0.000000  ...  0.000000  0.000000  0.000000  0.000000   \n\n     doc-14    doc-15    doc-16    doc-17    doc-18  doc-19  \n0  0.097524  0.095957  0.097401  0.000000  0.000000     0.0  \n1  0.000000  0.000000  0.000000  0.000000  0.000000     0.0  \n2  0.000000  0.000000  0.000000  0.000000  0.000000     0.0  \n3  0.039045  0.036429  0.035654  0.036467  0.036121     0.0  \n4  0.000000  0.000000  0.000000  0.000000  0.000000     0.0  \n\n[5 rows x 22 columns]",
      "text/html": "<div>\n<style scoped>\n    .dataframe tbody tr th:only-of-type {\n        vertical-align: middle;\n    }\n\n    .dataframe tbody tr th {\n        vertical-align: top;\n    }\n\n    .dataframe thead th {\n        text-align: right;\n    }\n</style>\n<table border=\"1\" class=\"dataframe\">\n  <thead>\n    <tr style=\"text-align: right;\">\n      <th></th>\n      <th>word</th>\n      <th>sum</th>\n      <th>doc-0</th>\n      <th>doc-1</th>\n      <th>doc-2</th>\n      <th>doc-3</th>\n      <th>doc-4</th>\n      <th>doc-5</th>\n      <th>doc-6</th>\n      <th>doc-7</th>\n      <th>...</th>\n      <th>doc-10</th>\n      <th>doc-11</th>\n      <th>doc-12</th>\n      <th>doc-13</th>\n      <th>doc-14</th>\n      <th>doc-15</th>\n      <th>doc-16</th>\n      <th>doc-17</th>\n      <th>doc-18</th>\n      <th>doc-19</th>\n    </tr>\n  </thead>\n  <tbody>\n    <tr>\n      <th>0</th>\n      <td>considerations</td>\n      <td>1.264890</td>\n      <td>0.095170</td>\n      <td>0.095452</td>\n      <td>0.095184</td>\n      <td>0.000000</td>\n      <td>0.099618</td>\n      <td>0.094418</td>\n      <td>0.097524</td>\n      <td>0.104742</td>\n      <td>...</td>\n      <td>0.098532</td>\n      <td>0.000000</td>\n      <td>0.097834</td>\n      <td>0.000000</td>\n      <td>0.097524</td>\n      <td>0.095957</td>\n      <td>0.097401</td>\n      <td>0.000000</td>\n      <td>0.000000</td>\n      <td>0.0</td>\n    </tr>\n    <tr>\n      <th>1</th>\n      <td>for</td>\n      <td>0.000000</td>\n      <td>0.000000</td>\n      <td>0.000000</td>\n      <td>0.000000</td>\n      <td>0.000000</td>\n      <td>0.000000</td>\n      <td>0.000000</td>\n      <td>0.000000</td>\n      <td>0.000000</td>\n      <td>...</td>\n      <td>0.000000</td>\n      <td>0.000000</td>\n      <td>0.000000</td>\n      <td>0.000000</td>\n      <td>0.000000</td>\n      <td>0.000000</td>\n      <td>0.000000</td>\n      <td>0.000000</td>\n      <td>0.000000</td>\n      <td>0.0</td>\n    </tr>\n    <tr>\n      <th>2</th>\n      <td>preventing</td>\n      <td>1.593458</td>\n      <td>0.265986</td>\n      <td>0.266775</td>\n      <td>0.266026</td>\n      <td>0.263420</td>\n      <td>0.000000</td>\n      <td>0.266326</td>\n      <td>0.000000</td>\n      <td>0.000000</td>\n      <td>...</td>\n      <td>0.264925</td>\n      <td>0.000000</td>\n      <td>0.000000</td>\n      <td>0.000000</td>\n      <td>0.000000</td>\n      <td>0.000000</td>\n      <td>0.000000</td>\n      <td>0.000000</td>\n      <td>0.000000</td>\n      <td>0.0</td>\n    </tr>\n    <tr>\n      <th>3</th>\n      <td>spread</td>\n      <td>0.628614</td>\n      <td>0.037132</td>\n      <td>0.036011</td>\n      <td>0.040244</td>\n      <td>0.037296</td>\n      <td>0.000000</td>\n      <td>0.035950</td>\n      <td>0.039045</td>\n      <td>0.035539</td>\n      <td>...</td>\n      <td>0.000000</td>\n      <td>0.036803</td>\n      <td>0.037557</td>\n      <td>0.037188</td>\n      <td>0.039045</td>\n      <td>0.036429</td>\n      <td>0.035654</td>\n      <td>0.036467</td>\n      <td>0.036121</td>\n      <td>0.0</td>\n    </tr>\n    <tr>\n      <th>4</th>\n      <td>of</td>\n      <td>0.000000</td>\n      <td>0.000000</td>\n      <td>0.000000</td>\n      <td>0.000000</td>\n      <td>0.000000</td>\n      <td>0.000000</td>\n      <td>0.000000</td>\n      <td>0.000000</td>\n      <td>0.000000</td>\n      <td>...</td>\n      <td>0.000000</td>\n      <td>0.000000</td>\n      <td>0.000000</td>\n      <td>0.000000</td>\n      <td>0.000000</td>\n      <td>0.000000</td>\n      <td>0.000000</td>\n      <td>0.000000</td>\n      <td>0.000000</td>\n      <td>0.0</td>\n    </tr>\n  </tbody>\n</table>\n<p>5 rows × 22 columns</p>\n</div>"
     },
     "metadata": {},
     "execution_count": 2
    }
   ],
   "source": [
    "import pandas as pd\n",
    "\n",
    "tf_idf_df = pd.read_csv('tf-idf.cdc_documents.csv')\n",
    "\n",
    "tf_idf_df.head()"
   ]
  },
  {
   "cell_type": "code",
   "execution_count": 23,
   "metadata": {},
   "outputs": [
    {
     "output_type": "execute_result",
     "data": {
      "text/plain": "              cdc_filter  ...                                               text\n0  high_risk_populations  ...  summary of changes to the guidance below are c...\n1  high_risk_populations  ...  summary of changes revisions were made on july...\n2  high_risk_populations  ...  before a covid 19 outbreak occurs in your loca...\n3  high_risk_populations  ...  meat and poultry processing facilities are a c...\n4  high_risk_populations  ...  purpose cdc has recommendations for when nursi...\n\n[5 rows x 3 columns]",
      "text/html": "<div>\n<style scoped>\n    .dataframe tbody tr th:only-of-type {\n        vertical-align: middle;\n    }\n\n    .dataframe tbody tr th {\n        vertical-align: top;\n    }\n\n    .dataframe thead th {\n        text-align: right;\n    }\n</style>\n<table border=\"1\" class=\"dataframe\">\n  <thead>\n    <tr style=\"text-align: right;\">\n      <th></th>\n      <th>cdc_filter</th>\n      <th>title</th>\n      <th>text</th>\n    </tr>\n  </thead>\n  <tbody>\n    <tr>\n      <th>0</th>\n      <td>high_risk_populations</td>\n      <td>considerations for preventing spread of covid ...</td>\n      <td>summary of changes to the guidance below are c...</td>\n    </tr>\n    <tr>\n      <th>1</th>\n      <td>high_risk_populations</td>\n      <td>testing guidelines for nursing homes</td>\n      <td>summary of changes revisions were made on july...</td>\n    </tr>\n    <tr>\n      <th>2</th>\n      <td>high_risk_populations</td>\n      <td>snapshot of cdc guidance for homeless and meal...</td>\n      <td>before a covid 19 outbreak occurs in your loca...</td>\n    </tr>\n    <tr>\n      <th>3</th>\n      <td>high_risk_populations</td>\n      <td>meat and poultry processing workers and employers</td>\n      <td>meat and poultry processing facilities are a c...</td>\n    </tr>\n    <tr>\n      <th>4</th>\n      <td>high_risk_populations</td>\n      <td>performing facility wide sars cov 2 testing in...</td>\n      <td>purpose cdc has recommendations for when nursi...</td>\n    </tr>\n  </tbody>\n</table>\n</div>"
     },
     "metadata": {},
     "execution_count": 23
    }
   ],
   "source": [
    "docs = pd.read_csv('cdc_documents.csv')\n",
    "\n",
    "docs.head()"
   ]
  },
  {
   "cell_type": "code",
   "execution_count": 11,
   "metadata": {},
   "outputs": [
    {
     "output_type": "execute_result",
     "data": {
      "text/plain": "               sum\ncount  3451.000000\nmean      1.013268\nstd       0.388394\nmin       0.000000\n25%       0.657221\n50%       1.008936\n75%       1.413353\nmax       2.123101",
      "text/html": "<div>\n<style scoped>\n    .dataframe tbody tr th:only-of-type {\n        vertical-align: middle;\n    }\n\n    .dataframe tbody tr th {\n        vertical-align: top;\n    }\n\n    .dataframe thead th {\n        text-align: right;\n    }\n</style>\n<table border=\"1\" class=\"dataframe\">\n  <thead>\n    <tr style=\"text-align: right;\">\n      <th></th>\n      <th>sum</th>\n    </tr>\n  </thead>\n  <tbody>\n    <tr>\n      <th>count</th>\n      <td>3451.000000</td>\n    </tr>\n    <tr>\n      <th>mean</th>\n      <td>1.013268</td>\n    </tr>\n    <tr>\n      <th>std</th>\n      <td>0.388394</td>\n    </tr>\n    <tr>\n      <th>min</th>\n      <td>0.000000</td>\n    </tr>\n    <tr>\n      <th>25%</th>\n      <td>0.657221</td>\n    </tr>\n    <tr>\n      <th>50%</th>\n      <td>1.008936</td>\n    </tr>\n    <tr>\n      <th>75%</th>\n      <td>1.413353</td>\n    </tr>\n    <tr>\n      <th>max</th>\n      <td>2.123101</td>\n    </tr>\n  </tbody>\n</table>\n</div>"
     },
     "metadata": {},
     "execution_count": 11
    }
   ],
   "source": [
    "tf_idf_df[['sum']].describe()"
   ]
  },
  {
   "cell_type": "code",
   "execution_count": 3,
   "metadata": {},
   "outputs": [
    {
     "output_type": "execute_result",
     "data": {
      "text/plain": "              word       sum\n117      residents  2.123101\n271        testing  1.957917\n938       students  1.901625\n140        nursing  1.814376\n2728         young  1.812102\n391        workers  1.797754\n112           sars  1.784146\n113            cov  1.784146\n2582       parents  1.737732\n723          masks  1.725751\n812        results  1.715195\n764            hcp  1.714525\n362      screening  1.707784\n886        symptom  1.705730\n498   disinfection  1.705017\n231       resident  1.703600\n164         source  1.699900\n781          viral  1.698371\n154   asymptomatic  1.697343\n423            ppe  1.687402\n202      personnel  1.681913\n971           many  1.681705\n443           mask  1.676061\n424           worn  1.675176\n258           test  1.672546\n830        schools  1.672212\n1057  disinfecting  1.670480\n1207      droplets  1.669702\n115      spreading  1.666911\n599         shield  1.666903\n441         unable  1.666749\n181      suspected  1.664452\n9           living  1.663888\n437      breathing  1.663675\n2111      evidence  1.663423\n761              1  1.662801\n1219      learning  1.662073\n249     identified  1.660728\n141          homes  1.659570\n174      coverings  1.659207",
      "text/html": "<div>\n<style scoped>\n    .dataframe tbody tr th:only-of-type {\n        vertical-align: middle;\n    }\n\n    .dataframe tbody tr th {\n        vertical-align: top;\n    }\n\n    .dataframe thead th {\n        text-align: right;\n    }\n</style>\n<table border=\"1\" class=\"dataframe\">\n  <thead>\n    <tr style=\"text-align: right;\">\n      <th></th>\n      <th>word</th>\n      <th>sum</th>\n    </tr>\n  </thead>\n  <tbody>\n    <tr>\n      <th>117</th>\n      <td>residents</td>\n      <td>2.123101</td>\n    </tr>\n    <tr>\n      <th>271</th>\n      <td>testing</td>\n      <td>1.957917</td>\n    </tr>\n    <tr>\n      <th>938</th>\n      <td>students</td>\n      <td>1.901625</td>\n    </tr>\n    <tr>\n      <th>140</th>\n      <td>nursing</td>\n      <td>1.814376</td>\n    </tr>\n    <tr>\n      <th>2728</th>\n      <td>young</td>\n      <td>1.812102</td>\n    </tr>\n    <tr>\n      <th>391</th>\n      <td>workers</td>\n      <td>1.797754</td>\n    </tr>\n    <tr>\n      <th>112</th>\n      <td>sars</td>\n      <td>1.784146</td>\n    </tr>\n    <tr>\n      <th>113</th>\n      <td>cov</td>\n      <td>1.784146</td>\n    </tr>\n    <tr>\n      <th>2582</th>\n      <td>parents</td>\n      <td>1.737732</td>\n    </tr>\n    <tr>\n      <th>723</th>\n      <td>masks</td>\n      <td>1.725751</td>\n    </tr>\n    <tr>\n      <th>812</th>\n      <td>results</td>\n      <td>1.715195</td>\n    </tr>\n    <tr>\n      <th>764</th>\n      <td>hcp</td>\n      <td>1.714525</td>\n    </tr>\n    <tr>\n      <th>362</th>\n      <td>screening</td>\n      <td>1.707784</td>\n    </tr>\n    <tr>\n      <th>886</th>\n      <td>symptom</td>\n      <td>1.705730</td>\n    </tr>\n    <tr>\n      <th>498</th>\n      <td>disinfection</td>\n      <td>1.705017</td>\n    </tr>\n    <tr>\n      <th>231</th>\n      <td>resident</td>\n      <td>1.703600</td>\n    </tr>\n    <tr>\n      <th>164</th>\n      <td>source</td>\n      <td>1.699900</td>\n    </tr>\n    <tr>\n      <th>781</th>\n      <td>viral</td>\n      <td>1.698371</td>\n    </tr>\n    <tr>\n      <th>154</th>\n      <td>asymptomatic</td>\n      <td>1.697343</td>\n    </tr>\n    <tr>\n      <th>423</th>\n      <td>ppe</td>\n      <td>1.687402</td>\n    </tr>\n    <tr>\n      <th>202</th>\n      <td>personnel</td>\n      <td>1.681913</td>\n    </tr>\n    <tr>\n      <th>971</th>\n      <td>many</td>\n      <td>1.681705</td>\n    </tr>\n    <tr>\n      <th>443</th>\n      <td>mask</td>\n      <td>1.676061</td>\n    </tr>\n    <tr>\n      <th>424</th>\n      <td>worn</td>\n      <td>1.675176</td>\n    </tr>\n    <tr>\n      <th>258</th>\n      <td>test</td>\n      <td>1.672546</td>\n    </tr>\n    <tr>\n      <th>830</th>\n      <td>schools</td>\n      <td>1.672212</td>\n    </tr>\n    <tr>\n      <th>1057</th>\n      <td>disinfecting</td>\n      <td>1.670480</td>\n    </tr>\n    <tr>\n      <th>1207</th>\n      <td>droplets</td>\n      <td>1.669702</td>\n    </tr>\n    <tr>\n      <th>115</th>\n      <td>spreading</td>\n      <td>1.666911</td>\n    </tr>\n    <tr>\n      <th>599</th>\n      <td>shield</td>\n      <td>1.666903</td>\n    </tr>\n    <tr>\n      <th>441</th>\n      <td>unable</td>\n      <td>1.666749</td>\n    </tr>\n    <tr>\n      <th>181</th>\n      <td>suspected</td>\n      <td>1.664452</td>\n    </tr>\n    <tr>\n      <th>9</th>\n      <td>living</td>\n      <td>1.663888</td>\n    </tr>\n    <tr>\n      <th>437</th>\n      <td>breathing</td>\n      <td>1.663675</td>\n    </tr>\n    <tr>\n      <th>2111</th>\n      <td>evidence</td>\n      <td>1.663423</td>\n    </tr>\n    <tr>\n      <th>761</th>\n      <td>1</td>\n      <td>1.662801</td>\n    </tr>\n    <tr>\n      <th>1219</th>\n      <td>learning</td>\n      <td>1.662073</td>\n    </tr>\n    <tr>\n      <th>249</th>\n      <td>identified</td>\n      <td>1.660728</td>\n    </tr>\n    <tr>\n      <th>141</th>\n      <td>homes</td>\n      <td>1.659570</td>\n    </tr>\n    <tr>\n      <th>174</th>\n      <td>coverings</td>\n      <td>1.659207</td>\n    </tr>\n  </tbody>\n</table>\n</div>"
     },
     "metadata": {},
     "execution_count": 3
    }
   ],
   "source": [
    "tf_idf_df[['word','sum']].sort_values(by='sum', ascending=False)[0:40]"
   ]
  },
  {
   "cell_type": "code",
   "execution_count": 33,
   "metadata": {
    "tags": []
   },
   "outputs": [
    {
     "output_type": "stream",
     "name": "stdout",
     "text": "{'doc': 0, 'sum': 214.6375774930538}\n{'doc': 1, 'sum': 110.71661117699631}\n{'doc': 2, 'sum': 106.05340299241307}\n{'doc': 3, 'sum': 457.00613485273146}\n{'doc': 4, 'sum': 157.97355951999984}\n{'doc': 5, 'sum': 213.06132113435933}\n{'doc': 6, 'sum': 99.11325683495721}\n{'doc': 7, 'sum': 213.3622866890872}\n{'doc': 8, 'sum': 101.03849960226968}\n{'doc': 9, 'sum': 311.9744119177025}\n{'doc': 10, 'sum': 141.2424951977246}\n{'doc': 11, 'sum': 162.83280895968178}\n{'doc': 12, 'sum': 184.44821515680871}\n{'doc': 13, 'sum': 156.1918679065404}\n{'doc': 14, 'sum': 99.11325683495721}\n{'doc': 15, 'sum': 194.44054789256808}\n{'doc': 16, 'sum': 225.32999797712074}\n{'doc': 17, 'sum': 144.24577399488936}\n{'doc': 18, 'sum': 153.34729591005396}\n{'doc': 19, 'sum': 50.65823521363747}\n"
    }
   ],
   "source": [
    "doc_sums = [{\"doc\":i, \"sum\":0} for i in range(20)]\n",
    "\n",
    "for row in tf_idf_df.itertuples():\n",
    "    for i,tf_idf in enumerate(row[3:]):\n",
    "        doc_sums[i]['sum'] += tf_idf\n",
    "\n",
    "for doc in doc_sums:\n",
    "    print(doc)\n"
   ]
  },
  {
   "cell_type": "markdown",
   "metadata": {},
   "source": [
    "from this we can see that doc-3 had the highest total sum of tf-idf, suggesting that it has a high volume of important or unique keywords for the cdc guidlines released"
   ]
  },
  {
   "cell_type": "code",
   "execution_count": 29,
   "metadata": {},
   "outputs": [
    {
     "output_type": "execute_result",
     "data": {
      "text/plain": "'meat and poultry processing workers and employers'"
     },
     "metadata": {},
     "execution_count": 29
    }
   ],
   "source": [
    "# highest ranked document\n",
    "docs.loc[3,'title']"
   ]
  },
  {
   "cell_type": "code",
   "execution_count": 37,
   "metadata": {},
   "outputs": [
    {
     "output_type": "execute_result",
     "data": {
      "text/plain": "              word     doc-3\n1311          side  0.672692\n1405       vehicle  0.667764\n1251         plant  0.667764\n1506     standards  0.665299\n1255  workstations  0.665299\n1417     modifying  0.665299\n1320    partitions  0.662835\n1242        locker  0.662835\n1775     complaint  0.662835\n1756   retaliation  0.662835\n1431       analyze  0.660371\n1228   supervisors  0.660371\n1444     schedules  0.660371\n1226        plants  0.660371\n1390          file  0.660371",
      "text/html": "<div>\n<style scoped>\n    .dataframe tbody tr th:only-of-type {\n        vertical-align: middle;\n    }\n\n    .dataframe tbody tr th {\n        vertical-align: top;\n    }\n\n    .dataframe thead th {\n        text-align: right;\n    }\n</style>\n<table border=\"1\" class=\"dataframe\">\n  <thead>\n    <tr style=\"text-align: right;\">\n      <th></th>\n      <th>word</th>\n      <th>doc-3</th>\n    </tr>\n  </thead>\n  <tbody>\n    <tr>\n      <th>1311</th>\n      <td>side</td>\n      <td>0.672692</td>\n    </tr>\n    <tr>\n      <th>1405</th>\n      <td>vehicle</td>\n      <td>0.667764</td>\n    </tr>\n    <tr>\n      <th>1251</th>\n      <td>plant</td>\n      <td>0.667764</td>\n    </tr>\n    <tr>\n      <th>1506</th>\n      <td>standards</td>\n      <td>0.665299</td>\n    </tr>\n    <tr>\n      <th>1255</th>\n      <td>workstations</td>\n      <td>0.665299</td>\n    </tr>\n    <tr>\n      <th>1417</th>\n      <td>modifying</td>\n      <td>0.665299</td>\n    </tr>\n    <tr>\n      <th>1320</th>\n      <td>partitions</td>\n      <td>0.662835</td>\n    </tr>\n    <tr>\n      <th>1242</th>\n      <td>locker</td>\n      <td>0.662835</td>\n    </tr>\n    <tr>\n      <th>1775</th>\n      <td>complaint</td>\n      <td>0.662835</td>\n    </tr>\n    <tr>\n      <th>1756</th>\n      <td>retaliation</td>\n      <td>0.662835</td>\n    </tr>\n    <tr>\n      <th>1431</th>\n      <td>analyze</td>\n      <td>0.660371</td>\n    </tr>\n    <tr>\n      <th>1228</th>\n      <td>supervisors</td>\n      <td>0.660371</td>\n    </tr>\n    <tr>\n      <th>1444</th>\n      <td>schedules</td>\n      <td>0.660371</td>\n    </tr>\n    <tr>\n      <th>1226</th>\n      <td>plants</td>\n      <td>0.660371</td>\n    </tr>\n    <tr>\n      <th>1390</th>\n      <td>file</td>\n      <td>0.660371</td>\n    </tr>\n  </tbody>\n</table>\n</div>"
     },
     "metadata": {},
     "execution_count": 37
    }
   ],
   "source": [
    "tf_idf_df[['word','doc-3']].sort_values(by='doc-3', ascending=False)[0:15]"
   ]
  },
  {
   "cell_type": "code",
   "execution_count": 34,
   "metadata": {},
   "outputs": [
    {
     "output_type": "execute_result",
     "data": {
      "text/plain": "'guidance for cleaning and disinfecting'"
     },
     "metadata": {},
     "execution_count": 34
    }
   ],
   "source": [
    "# lowest ranked document\n",
    "docs.loc[19, 'title']"
   ]
  }
 ]
}