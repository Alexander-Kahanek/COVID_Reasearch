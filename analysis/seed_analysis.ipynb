{
 "metadata": {
  "language_info": {
   "codemirror_mode": {
    "name": "ipython",
    "version": 3
   },
   "file_extension": ".py",
   "mimetype": "text/x-python",
   "name": "python",
   "nbconvert_exporter": "python",
   "pygments_lexer": "ipython3",
   "version": "3.8.3-final"
  },
  "orig_nbformat": 2,
  "kernelspec": {
   "name": "Python 3.8.3 64-bit",
   "display_name": "Python 3.8.3 64-bit",
   "metadata": {
    "interpreter": {
     "hash": "0de36b31320ba4c88b4f85a74724f3d16c36a44df48581253710b1065e752d9e"
    }
   }
  }
 },
 "nbformat": 4,
 "nbformat_minor": 2,
 "cells": [
  {
   "source": [
    "# analysis of keywords from cdc documents"
   ],
   "cell_type": "markdown",
   "metadata": {}
  },
  {
   "cell_type": "code",
   "execution_count": 1,
   "metadata": {},
   "outputs": [
    {
     "output_type": "execute_result",
     "data": {
      "text/plain": "                       created_at statefips countyfips countyname  \\\n0  Mon Feb 10 07:03:44 +0000 2020      32.0        3.0      Clark   \n1  Mon Feb 10 07:04:49 +0000 2020      36.0       81.0     Queens   \n2  Mon Feb 10 07:05:30 +0000 2020       4.0       13.0   Maricopa   \n3  Mon Feb 10 07:10:48 +0000 2020       5.0      119.0    Pulaski   \n4  Mon Feb 10 07:11:11 +0000 2020       5.0      119.0    Pulaski   \n\n                                              ogtext  \\\n0  having a mocha and avoiding coronavirus at the...   \n1                         our hearts beat with china   \n2  people stop my sister in the street to make fu...   \n3   coronavirus death toll surpasses the number o...   \n4   coronavirus cases aboard japanese cruise ship...   \n\n                                           cleantext      mentions hashtags  \\\n0               have mocha avoid coronavirus airport          None     None   \n1                                   heart beat china  ['linsapna']     None   \n2  people stop sister street fun wearing mask s a...          None     None   \n3     coronavirus death toll surpass number fatal...          None     None   \n4     coronavirus case aboard japanese cruise shi...          None     None   \n\n                                                 pos  ner sentiment  \n0  [['having', 'VBG'], ['a', 'DT'], ['mocha', 'NN...  NaN  POSITIVE  \n1  [['our', 'PRP$'], ['hearts', 'NNS'], ['beat', ...  NaN  POSITIVE  \n2  [['people', 'NNS'], ['stop', 'VBP'], ['my', 'P...  NaN  POSITIVE  \n3  [['coronavirus', 'NN'], ['death', 'NN'], ['tol...  NaN  NEGATIVE  \n4  [['coronavirus', 'NN'], ['cases', 'NNS'], ['ab...  NaN  NEGATIVE  ",
      "text/html": "<div>\n<style scoped>\n    .dataframe tbody tr th:only-of-type {\n        vertical-align: middle;\n    }\n\n    .dataframe tbody tr th {\n        vertical-align: top;\n    }\n\n    .dataframe thead th {\n        text-align: right;\n    }\n</style>\n<table border=\"1\" class=\"dataframe\">\n  <thead>\n    <tr style=\"text-align: right;\">\n      <th></th>\n      <th>created_at</th>\n      <th>statefips</th>\n      <th>countyfips</th>\n      <th>countyname</th>\n      <th>ogtext</th>\n      <th>cleantext</th>\n      <th>mentions</th>\n      <th>hashtags</th>\n      <th>pos</th>\n      <th>ner</th>\n      <th>sentiment</th>\n    </tr>\n  </thead>\n  <tbody>\n    <tr>\n      <th>0</th>\n      <td>Mon Feb 10 07:03:44 +0000 2020</td>\n      <td>32.0</td>\n      <td>3.0</td>\n      <td>Clark</td>\n      <td>having a mocha and avoiding coronavirus at the...</td>\n      <td>have mocha avoid coronavirus airport</td>\n      <td>None</td>\n      <td>None</td>\n      <td>[['having', 'VBG'], ['a', 'DT'], ['mocha', 'NN...</td>\n      <td>NaN</td>\n      <td>POSITIVE</td>\n    </tr>\n    <tr>\n      <th>1</th>\n      <td>Mon Feb 10 07:04:49 +0000 2020</td>\n      <td>36.0</td>\n      <td>81.0</td>\n      <td>Queens</td>\n      <td>our hearts beat with china</td>\n      <td>heart beat china</td>\n      <td>['linsapna']</td>\n      <td>None</td>\n      <td>[['our', 'PRP$'], ['hearts', 'NNS'], ['beat', ...</td>\n      <td>NaN</td>\n      <td>POSITIVE</td>\n    </tr>\n    <tr>\n      <th>2</th>\n      <td>Mon Feb 10 07:05:30 +0000 2020</td>\n      <td>4.0</td>\n      <td>13.0</td>\n      <td>Maricopa</td>\n      <td>people stop my sister in the street to make fu...</td>\n      <td>people stop sister street fun wearing mask s a...</td>\n      <td>None</td>\n      <td>None</td>\n      <td>[['people', 'NNS'], ['stop', 'VBP'], ['my', 'P...</td>\n      <td>NaN</td>\n      <td>POSITIVE</td>\n    </tr>\n    <tr>\n      <th>3</th>\n      <td>Mon Feb 10 07:10:48 +0000 2020</td>\n      <td>5.0</td>\n      <td>119.0</td>\n      <td>Pulaski</td>\n      <td>coronavirus death toll surpasses the number o...</td>\n      <td>coronavirus death toll surpass number fatal...</td>\n      <td>None</td>\n      <td>None</td>\n      <td>[['coronavirus', 'NN'], ['death', 'NN'], ['tol...</td>\n      <td>NaN</td>\n      <td>NEGATIVE</td>\n    </tr>\n    <tr>\n      <th>4</th>\n      <td>Mon Feb 10 07:11:11 +0000 2020</td>\n      <td>5.0</td>\n      <td>119.0</td>\n      <td>Pulaski</td>\n      <td>coronavirus cases aboard japanese cruise ship...</td>\n      <td>coronavirus case aboard japanese cruise shi...</td>\n      <td>None</td>\n      <td>None</td>\n      <td>[['coronavirus', 'NN'], ['cases', 'NNS'], ['ab...</td>\n      <td>NaN</td>\n      <td>NEGATIVE</td>\n    </tr>\n  </tbody>\n</table>\n</div>"
     },
     "metadata": {},
     "execution_count": 1
    }
   ],
   "source": [
    "import pandas as pd\n",
    "\n",
    "raw = pd.read_csv('geo.coord_tweets/flair.joined.tweets.csv')\n",
    "\n",
    "raw.head()"
   ]
  },
  {
   "cell_type": "code",
   "execution_count": 17,
   "metadata": {},
   "outputs": [
    {
     "output_type": "execute_result",
     "data": {
      "text/plain": "(353588, 11)"
     },
     "metadata": {},
     "execution_count": 17
    }
   ],
   "source": [
    "raw.shape"
   ]
  },
  {
   "source": [
    "# dataframe of all keywords"
   ],
   "cell_type": "markdown",
   "metadata": {}
  },
  {
   "cell_type": "code",
   "execution_count": 2,
   "metadata": {
    "tags": []
   },
   "outputs": [
    {
     "output_type": "execute_result",
     "data": {
      "text/plain": "   cat-id                       category                 seed\n0       1  Physical or social distancing    social distancing\n1       1  Physical or social distancing      social distance\n2       1  Physical or social distancing    socially distance\n3       1  Physical or social distancing    physical distance\n4       1  Physical or social distancing  physical distancing",
      "text/html": "<div>\n<style scoped>\n    .dataframe tbody tr th:only-of-type {\n        vertical-align: middle;\n    }\n\n    .dataframe tbody tr th {\n        vertical-align: top;\n    }\n\n    .dataframe thead th {\n        text-align: right;\n    }\n</style>\n<table border=\"1\" class=\"dataframe\">\n  <thead>\n    <tr style=\"text-align: right;\">\n      <th></th>\n      <th>cat-id</th>\n      <th>category</th>\n      <th>seed</th>\n    </tr>\n  </thead>\n  <tbody>\n    <tr>\n      <th>0</th>\n      <td>1</td>\n      <td>Physical or social distancing</td>\n      <td>social distancing</td>\n    </tr>\n    <tr>\n      <th>1</th>\n      <td>1</td>\n      <td>Physical or social distancing</td>\n      <td>social distance</td>\n    </tr>\n    <tr>\n      <th>2</th>\n      <td>1</td>\n      <td>Physical or social distancing</td>\n      <td>socially distance</td>\n    </tr>\n    <tr>\n      <th>3</th>\n      <td>1</td>\n      <td>Physical or social distancing</td>\n      <td>physical distance</td>\n    </tr>\n    <tr>\n      <th>4</th>\n      <td>1</td>\n      <td>Physical or social distancing</td>\n      <td>physical distancing</td>\n    </tr>\n  </tbody>\n</table>\n</div>"
     },
     "metadata": {},
     "execution_count": 2
    }
   ],
   "source": [
    "seedwords = [{\"cat-id\":i+1, \"category\":line.split(':')[0], \"seed\":seed} \n",
    "            for i,line in enumerate(open('seeds.txt','r')) \n",
    "            for seed in line.split(':')[1].strip().split(',')]\n",
    "\n",
    "seeds = pd.DataFrame(seedwords)\n",
    "seeds.head()"
   ]
  },
  {
   "source": [
    "# dataframe of if keyword exists in cleaned text"
   ],
   "cell_type": "markdown",
   "metadata": {}
  },
  {
   "cell_type": "code",
   "execution_count": 3,
   "metadata": {},
   "outputs": [
    {
     "output_type": "execute_result",
     "data": {
      "text/plain": "                       created_at sentiment statefips countyfips  \\\n0  Mon Feb 10 07:03:44 +0000 2020  POSITIVE      32.0        3.0   \n1  Mon Feb 10 07:04:49 +0000 2020  POSITIVE      36.0       81.0   \n2  Mon Feb 10 07:05:30 +0000 2020  POSITIVE       4.0       13.0   \n3  Mon Feb 10 07:10:48 +0000 2020  NEGATIVE       5.0      119.0   \n4  Mon Feb 10 07:11:11 +0000 2020  NEGATIVE       5.0      119.0   \n\n                                           cleantext  social distancing  \\\n0               have mocha avoid coronavirus airport                  0   \n1                                   heart beat china                  0   \n2  people stop sister street fun wearing mask s a...                  0   \n3     coronavirus death toll surpass number fatal...                  0   \n4     coronavirus case aboard japanese cruise shi...                  0   \n\n   social distance  socially distance  physical distance  physical distancing  \\\n0                0                  0                  0                    0   \n1                0                  0                  0                    0   \n2                0                  0                  0                    0   \n3                0                  0                  0                    0   \n4                0                  0                  0                    0   \n\n   ...  antibody test  asymptomatic  diagnostic testing  fever  virtual  \\\n0  ...              0             0                   0      0        0   \n1  ...              0             0                   0      0        0   \n2  ...              0             0                   0      0        0   \n3  ...              0             0                   0      0        0   \n4  ...              0             0                   0      0        0   \n\n   online  screen  disposable  barriers  exposure  \n0       0       0           0         0         0  \n1       0       0           0         0         0  \n2       0       0           0         0         0  \n3       0       0           0         0         0  \n4       0       0           0         0         0  \n\n[5 rows x 104 columns]",
      "text/html": "<div>\n<style scoped>\n    .dataframe tbody tr th:only-of-type {\n        vertical-align: middle;\n    }\n\n    .dataframe tbody tr th {\n        vertical-align: top;\n    }\n\n    .dataframe thead th {\n        text-align: right;\n    }\n</style>\n<table border=\"1\" class=\"dataframe\">\n  <thead>\n    <tr style=\"text-align: right;\">\n      <th></th>\n      <th>created_at</th>\n      <th>sentiment</th>\n      <th>statefips</th>\n      <th>countyfips</th>\n      <th>cleantext</th>\n      <th>social distancing</th>\n      <th>social distance</th>\n      <th>socially distance</th>\n      <th>physical distance</th>\n      <th>physical distancing</th>\n      <th>...</th>\n      <th>antibody test</th>\n      <th>asymptomatic</th>\n      <th>diagnostic testing</th>\n      <th>fever</th>\n      <th>virtual</th>\n      <th>online</th>\n      <th>screen</th>\n      <th>disposable</th>\n      <th>barriers</th>\n      <th>exposure</th>\n    </tr>\n  </thead>\n  <tbody>\n    <tr>\n      <th>0</th>\n      <td>Mon Feb 10 07:03:44 +0000 2020</td>\n      <td>POSITIVE</td>\n      <td>32.0</td>\n      <td>3.0</td>\n      <td>have mocha avoid coronavirus airport</td>\n      <td>0</td>\n      <td>0</td>\n      <td>0</td>\n      <td>0</td>\n      <td>0</td>\n      <td>...</td>\n      <td>0</td>\n      <td>0</td>\n      <td>0</td>\n      <td>0</td>\n      <td>0</td>\n      <td>0</td>\n      <td>0</td>\n      <td>0</td>\n      <td>0</td>\n      <td>0</td>\n    </tr>\n    <tr>\n      <th>1</th>\n      <td>Mon Feb 10 07:04:49 +0000 2020</td>\n      <td>POSITIVE</td>\n      <td>36.0</td>\n      <td>81.0</td>\n      <td>heart beat china</td>\n      <td>0</td>\n      <td>0</td>\n      <td>0</td>\n      <td>0</td>\n      <td>0</td>\n      <td>...</td>\n      <td>0</td>\n      <td>0</td>\n      <td>0</td>\n      <td>0</td>\n      <td>0</td>\n      <td>0</td>\n      <td>0</td>\n      <td>0</td>\n      <td>0</td>\n      <td>0</td>\n    </tr>\n    <tr>\n      <th>2</th>\n      <td>Mon Feb 10 07:05:30 +0000 2020</td>\n      <td>POSITIVE</td>\n      <td>4.0</td>\n      <td>13.0</td>\n      <td>people stop sister street fun wearing mask s a...</td>\n      <td>0</td>\n      <td>0</td>\n      <td>0</td>\n      <td>0</td>\n      <td>0</td>\n      <td>...</td>\n      <td>0</td>\n      <td>0</td>\n      <td>0</td>\n      <td>0</td>\n      <td>0</td>\n      <td>0</td>\n      <td>0</td>\n      <td>0</td>\n      <td>0</td>\n      <td>0</td>\n    </tr>\n    <tr>\n      <th>3</th>\n      <td>Mon Feb 10 07:10:48 +0000 2020</td>\n      <td>NEGATIVE</td>\n      <td>5.0</td>\n      <td>119.0</td>\n      <td>coronavirus death toll surpass number fatal...</td>\n      <td>0</td>\n      <td>0</td>\n      <td>0</td>\n      <td>0</td>\n      <td>0</td>\n      <td>...</td>\n      <td>0</td>\n      <td>0</td>\n      <td>0</td>\n      <td>0</td>\n      <td>0</td>\n      <td>0</td>\n      <td>0</td>\n      <td>0</td>\n      <td>0</td>\n      <td>0</td>\n    </tr>\n    <tr>\n      <th>4</th>\n      <td>Mon Feb 10 07:11:11 +0000 2020</td>\n      <td>NEGATIVE</td>\n      <td>5.0</td>\n      <td>119.0</td>\n      <td>coronavirus case aboard japanese cruise shi...</td>\n      <td>0</td>\n      <td>0</td>\n      <td>0</td>\n      <td>0</td>\n      <td>0</td>\n      <td>...</td>\n      <td>0</td>\n      <td>0</td>\n      <td>0</td>\n      <td>0</td>\n      <td>0</td>\n      <td>0</td>\n      <td>0</td>\n      <td>0</td>\n      <td>0</td>\n      <td>0</td>\n    </tr>\n  </tbody>\n</table>\n<p>5 rows × 104 columns</p>\n</div>"
     },
     "metadata": {},
     "execution_count": 3
    }
   ],
   "source": [
    "seedsdf = raw[['created_at', 'sentiment', 'statefips', 'countyfips', 'cleantext']]\n",
    "\n",
    "seedlist = []\n",
    "\n",
    "for seed in seeds['seed']:\n",
    "\n",
    "    seedbools = [1 if str(seed) in str(text) else 0 for text in seedsdf['cleantext']]\n",
    "\n",
    "    seedsdf[seed] = seedbools\n",
    "\n",
    "    seedlist.append(seedbools)\n",
    "\n",
    "seedsdf.head()"
   ]
  },
  {
   "source": [
    "# keywords with highest occurance"
   ],
   "cell_type": "markdown",
   "metadata": {}
  },
  {
   "cell_type": "code",
   "execution_count": 21,
   "metadata": {},
   "outputs": [
    {
     "output_type": "execute_result",
     "data": {
      "text/plain": "test                 15228\nmask                  9233\nstay home             9159\nsocial distancing     8812\nppe                   8405\nquarantine            4705\nwear mask             2888\nfear                  2763\ntesting               2369\nsocial distance       2231\nworry                 2014\nclean                 1562\nonline                1370\nsanitize              1021\nvirtual                938\nscreen                 747\nhand sanitizer         678\nrespirator             647\ndisinfect              642\nisolation              613\ndtype: int64"
     },
     "metadata": {},
     "execution_count": 21
    }
   ],
   "source": [
    "seedsdf.iloc[:,5:].sum(axis=0).sort_values(ascending=False)[0:20]"
   ]
  },
  {
   "source": [
    "# keywords with lowest occurances"
   ],
   "cell_type": "markdown",
   "metadata": {}
  },
  {
   "cell_type": "code",
   "execution_count": 25,
   "metadata": {},
   "outputs": [
    {
     "output_type": "execute_result",
     "data": {
      "text/plain": "mental stress                        0\nconcentrates                         0\nbarriers                             0\nroutine cleaning                     0\nregular cleaning and disinfecting    0\nsymptom screening                    0\nskin protection                      0\nwearing gloves                       0\nN95 respirator                       0\nSocial support                       0\nwear a mask                          0\nsocially connected                   0\nschool isolation                     0\nstay-at-home                         0\n6-feet                               0\nprevention hygiene                   0\nphysical barriers                    0\nduration of contact                  0\nemotional well-being                 0\nmental well-being                    0\n6 feet apart                         0\ncontinuity of health care            0\nvirtual meetings                     0\nphysically active                    1\npersonal protection equipment        1\nsexual exploitation                  1\ncyberbullying                        1\nintimate partner violence            1\nclean hands                          1\nbleach solution                      2\ndtype: int64"
     },
     "metadata": {},
     "execution_count": 25
    }
   ],
   "source": [
    "seedsdf.iloc[:,5:].sum(axis=0).sort_values(ascending=True)[0:30]"
   ]
  },
  {
   "source": [
    "# tweets with top number of keywords included"
   ],
   "cell_type": "markdown",
   "metadata": {}
  },
  {
   "cell_type": "code",
   "execution_count": 23,
   "metadata": {},
   "outputs": [
    {
     "output_type": "execute_result",
     "data": {
      "text/plain": "68574     7\n21040     7\n91755     6\n258807    6\n73749     6\n96618     6\n10562     6\n167584    6\n74071     6\n87695     6\ndtype: int64"
     },
     "metadata": {},
     "execution_count": 23
    }
   ],
   "source": [
    "seedsdf.iloc[:,5:].sum(axis=1).sort_values(ascending=False)[0:10]"
   ]
  },
  {
   "source": [
    "# number of tweets that have a keyword"
   ],
   "cell_type": "markdown",
   "metadata": {}
  },
  {
   "cell_type": "code",
   "execution_count": 27,
   "metadata": {},
   "outputs": [
    {
     "output_type": "execute_result",
     "data": {
      "text/plain": "64394"
     },
     "metadata": {},
     "execution_count": 27
    }
   ],
   "source": [
    "tweet_occurance = seedsdf.iloc[:,5:].sum(axis=1).sort_values(ascending=False)\n",
    "len(tweet_occurance[tweet_occurance > 0].index)"
   ]
  },
  {
   "source": [
    "# extra irrelevant code..."
   ],
   "cell_type": "markdown",
   "metadata": {}
  },
  {
   "cell_type": "code",
   "execution_count": 5,
   "metadata": {},
   "outputs": [],
   "source": [
    "seedsdf.to_csv('found_seeds.tweets.csv', index=False)"
   ]
  },
  {
   "cell_type": "code",
   "execution_count": 1,
   "metadata": {
    "tags": []
   },
   "outputs": [],
   "source": [
    "# def check_cat(text, seedlist):\n",
    "#     for seed in seedlist:\n",
    "#         if str(seed) in text:\n",
    "#             return 1\n",
    "#     return 0\n",
    "\n",
    "# \n",
    "\n",
    "# for i in range(7):\n",
    "#     catdf[f'cat-i'] = [check_cat(str(text), seeds[seeds['cat-id'] == i+1])\n",
    "#                         for text in catdf['cleantext']]\n",
    "\n",
    "# catdf.head()\n",
    "\n",
    "# catdf = raw[['created_at', 'sentiment', 'statefips', 'countyfips', 'cleantext']]\n",
    "\n",
    "# for i in range(7):\n",
    "#     catdf[f'cat-{i+1}'] = False\n",
    "\n",
    "# for row in seedsdf.itertuples():\n",
    "#     Ntotal = 0\n",
    "#     for i in range(7):\n",
    "#         cat = False\n",
    "#         Ncat = len(seeds[seeds['cat-id'] == i+1])\n",
    "#         for seed in row[6+Ntotal:6+Ntotal+Ncat]:\n",
    "#             if seed == 1:\n",
    "#                 cat = True\n",
    "#         catdf.loc[row[0], f'cat-{i+1}'] = cat\n",
    "        "
   ]
  },
  {
   "cell_type": "code",
   "execution_count": 24,
   "metadata": {
    "tags": []
   },
   "outputs": [
    {
     "output_type": "stream",
     "name": "stdout",
     "text": "[19, 18, 2, 17, 16, 5, 24]\n"
    }
   ],
   "source": [
    "Nseeds = [len(seeds[seeds['cat-id'] == i+1]) for i in range(7)]\n",
    "Ntext = len(seedlist[0])\n",
    "\n",
    "print(Nseeds)\n",
    "\n",
    "for k in range(Ntext): # for each text\n",
    "    N = 0\n",
    "    for i, seedlen in enumerate(Nseeds):\n",
    "        for seed in seedlist[N:N+seedlen]:\n",
    "            print(seed)\n",
    "            # if seed[k] == 1:\n",
    "                \n",
    "        N += seedlen\n",
    "\n",
    "\n"
   ]
  }
 ]
}