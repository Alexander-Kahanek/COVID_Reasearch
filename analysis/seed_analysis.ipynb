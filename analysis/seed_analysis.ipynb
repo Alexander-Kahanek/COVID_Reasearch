{
 "metadata": {
  "language_info": {
   "codemirror_mode": {
    "name": "ipython",
    "version": 3
   },
   "file_extension": ".py",
   "mimetype": "text/x-python",
   "name": "python",
   "nbconvert_exporter": "python",
   "pygments_lexer": "ipython3",
   "version": "3.8.3-final"
  },
  "orig_nbformat": 2,
  "kernelspec": {
   "name": "Python 3.8.3 64-bit",
   "display_name": "Python 3.8.3 64-bit",
   "metadata": {
    "interpreter": {
     "hash": "0de36b31320ba4c88b4f85a74724f3d16c36a44df48581253710b1065e752d9e"
    }
   }
  }
 },
 "nbformat": 4,
 "nbformat_minor": 2,
 "cells": [
  {
   "source": [
    "# analysis of keywords from cdc documents"
   ],
   "cell_type": "markdown",
   "metadata": {}
  },
  {
   "cell_type": "code",
   "execution_count": 1,
   "metadata": {},
   "outputs": [
    {
     "output_type": "execute_result",
     "data": {
      "text/plain": [
       "                   id_str                      created_at  follower_count  \\\n",
       "0  id:1226763665036075008  Mon Feb 10 07:03:44 +0000 2020           270.0   \n",
       "1  id:1226763937317818368  Mon Feb 10 07:04:49 +0000 2020           199.0   \n",
       "2  id:1226764107958734851  Mon Feb 10 07:05:30 +0000 2020           235.0   \n",
       "3  id:1226765442548719616  Mon Feb 10 07:10:48 +0000 2020         60008.0   \n",
       "4  id:1226765540229861376  Mon Feb 10 07:11:11 +0000 2020         60008.0   \n",
       "\n",
       "   friends_count statefips countyfips countyname  is_urban  \\\n",
       "0          539.0      32.0        3.0      Clark         1   \n",
       "1          216.0      36.0       81.0     Queens         1   \n",
       "2          130.0       4.0       13.0   Maricopa         1   \n",
       "3        51176.0       5.0      119.0    Pulaski         0   \n",
       "4        51176.0       5.0      119.0    Pulaski         0   \n",
       "\n",
       "                                              ogtext  \\\n",
       "0  having a mocha and avoiding coronavirus at the...   \n",
       "1                         our hearts beat with china   \n",
       "2  people stop my sister in the street to make fu...   \n",
       "3   coronavirus death toll surpasses the number o...   \n",
       "4   coronavirus cases aboard japanese cruise ship...   \n",
       "\n",
       "                                           cleantext      mentions hashtags  \\\n",
       "0               have mocha avoid coronavirus airport          None     None   \n",
       "1                                   heart beat china  ['linsapna']     None   \n",
       "2  people stop sister street fun wearing mask s a...          None     None   \n",
       "3     coronavirus death toll surpass number fatal...          None     None   \n",
       "4     coronavirus case aboard japanese cruise shi...          None     None   \n",
       "\n",
       "                                                 pos  ner sentiment  \\\n",
       "0  [['having', 'VBG'], ['a', 'DT'], ['mocha', 'NN...  NaN  POSITIVE   \n",
       "1  [['our', 'PRP$'], ['hearts', 'NNS'], ['beat', ...  NaN  POSITIVE   \n",
       "2  [['people', 'NNS'], ['stop', 'VBP'], ['my', 'P...  NaN  POSITIVE   \n",
       "3  [['coronavirus', 'NN'], ['death', 'NN'], ['tol...  NaN  NEGATIVE   \n",
       "4  [['coronavirus', 'NN'], ['cases', 'NNS'], ['ab...  NaN  NEGATIVE   \n",
       "\n",
       "   sent_confidence  \n",
       "0         0.940228  \n",
       "1         0.872616  \n",
       "2         0.925717  \n",
       "3         0.994157  \n",
       "4         0.998726  "
      ],
      "text/html": "<div>\n<style scoped>\n    .dataframe tbody tr th:only-of-type {\n        vertical-align: middle;\n    }\n\n    .dataframe tbody tr th {\n        vertical-align: top;\n    }\n\n    .dataframe thead th {\n        text-align: right;\n    }\n</style>\n<table border=\"1\" class=\"dataframe\">\n  <thead>\n    <tr style=\"text-align: right;\">\n      <th></th>\n      <th>id_str</th>\n      <th>created_at</th>\n      <th>follower_count</th>\n      <th>friends_count</th>\n      <th>statefips</th>\n      <th>countyfips</th>\n      <th>countyname</th>\n      <th>is_urban</th>\n      <th>ogtext</th>\n      <th>cleantext</th>\n      <th>mentions</th>\n      <th>hashtags</th>\n      <th>pos</th>\n      <th>ner</th>\n      <th>sentiment</th>\n      <th>sent_confidence</th>\n    </tr>\n  </thead>\n  <tbody>\n    <tr>\n      <th>0</th>\n      <td>id:1226763665036075008</td>\n      <td>Mon Feb 10 07:03:44 +0000 2020</td>\n      <td>270.0</td>\n      <td>539.0</td>\n      <td>32.0</td>\n      <td>3.0</td>\n      <td>Clark</td>\n      <td>1</td>\n      <td>having a mocha and avoiding coronavirus at the...</td>\n      <td>have mocha avoid coronavirus airport</td>\n      <td>None</td>\n      <td>None</td>\n      <td>[['having', 'VBG'], ['a', 'DT'], ['mocha', 'NN...</td>\n      <td>NaN</td>\n      <td>POSITIVE</td>\n      <td>0.940228</td>\n    </tr>\n    <tr>\n      <th>1</th>\n      <td>id:1226763937317818368</td>\n      <td>Mon Feb 10 07:04:49 +0000 2020</td>\n      <td>199.0</td>\n      <td>216.0</td>\n      <td>36.0</td>\n      <td>81.0</td>\n      <td>Queens</td>\n      <td>1</td>\n      <td>our hearts beat with china</td>\n      <td>heart beat china</td>\n      <td>['linsapna']</td>\n      <td>None</td>\n      <td>[['our', 'PRP$'], ['hearts', 'NNS'], ['beat', ...</td>\n      <td>NaN</td>\n      <td>POSITIVE</td>\n      <td>0.872616</td>\n    </tr>\n    <tr>\n      <th>2</th>\n      <td>id:1226764107958734851</td>\n      <td>Mon Feb 10 07:05:30 +0000 2020</td>\n      <td>235.0</td>\n      <td>130.0</td>\n      <td>4.0</td>\n      <td>13.0</td>\n      <td>Maricopa</td>\n      <td>1</td>\n      <td>people stop my sister in the street to make fu...</td>\n      <td>people stop sister street fun wearing mask s a...</td>\n      <td>None</td>\n      <td>None</td>\n      <td>[['people', 'NNS'], ['stop', 'VBP'], ['my', 'P...</td>\n      <td>NaN</td>\n      <td>POSITIVE</td>\n      <td>0.925717</td>\n    </tr>\n    <tr>\n      <th>3</th>\n      <td>id:1226765442548719616</td>\n      <td>Mon Feb 10 07:10:48 +0000 2020</td>\n      <td>60008.0</td>\n      <td>51176.0</td>\n      <td>5.0</td>\n      <td>119.0</td>\n      <td>Pulaski</td>\n      <td>0</td>\n      <td>coronavirus death toll surpasses the number o...</td>\n      <td>coronavirus death toll surpass number fatal...</td>\n      <td>None</td>\n      <td>None</td>\n      <td>[['coronavirus', 'NN'], ['death', 'NN'], ['tol...</td>\n      <td>NaN</td>\n      <td>NEGATIVE</td>\n      <td>0.994157</td>\n    </tr>\n    <tr>\n      <th>4</th>\n      <td>id:1226765540229861376</td>\n      <td>Mon Feb 10 07:11:11 +0000 2020</td>\n      <td>60008.0</td>\n      <td>51176.0</td>\n      <td>5.0</td>\n      <td>119.0</td>\n      <td>Pulaski</td>\n      <td>0</td>\n      <td>coronavirus cases aboard japanese cruise ship...</td>\n      <td>coronavirus case aboard japanese cruise shi...</td>\n      <td>None</td>\n      <td>None</td>\n      <td>[['coronavirus', 'NN'], ['cases', 'NNS'], ['ab...</td>\n      <td>NaN</td>\n      <td>NEGATIVE</td>\n      <td>0.998726</td>\n    </tr>\n  </tbody>\n</table>\n</div>"
     },
     "metadata": {},
     "execution_count": 1
    }
   ],
   "source": [
    "import pandas as pd\n",
    "\n",
    "raw = pd.read_csv('newest_data/flair.joined.tweets.csv')\n",
    "\n",
    "raw.head()"
   ]
  },
  {
   "cell_type": "code",
   "execution_count": 2,
   "metadata": {},
   "outputs": [
    {
     "output_type": "execute_result",
     "data": {
      "text/plain": [
       "(353588, 16)"
      ]
     },
     "metadata": {},
     "execution_count": 2
    }
   ],
   "source": [
    "raw.shape"
   ]
  },
  {
   "source": [
    "# dataframe of all keywords"
   ],
   "cell_type": "markdown",
   "metadata": {}
  },
  {
   "cell_type": "code",
   "execution_count": 3,
   "metadata": {
    "tags": []
   },
   "outputs": [
    {
     "output_type": "execute_result",
     "data": {
      "text/plain": [
       "   cat-id                       category                 seed\n",
       "0       1  Physical or social distancing    social distancing\n",
       "1       1  Physical or social distancing      social distance\n",
       "2       1  Physical or social distancing    socially distance\n",
       "3       1  Physical or social distancing    physical distance\n",
       "4       1  Physical or social distancing  physical distancing"
      ],
      "text/html": "<div>\n<style scoped>\n    .dataframe tbody tr th:only-of-type {\n        vertical-align: middle;\n    }\n\n    .dataframe tbody tr th {\n        vertical-align: top;\n    }\n\n    .dataframe thead th {\n        text-align: right;\n    }\n</style>\n<table border=\"1\" class=\"dataframe\">\n  <thead>\n    <tr style=\"text-align: right;\">\n      <th></th>\n      <th>cat-id</th>\n      <th>category</th>\n      <th>seed</th>\n    </tr>\n  </thead>\n  <tbody>\n    <tr>\n      <th>0</th>\n      <td>1</td>\n      <td>Physical or social distancing</td>\n      <td>social distancing</td>\n    </tr>\n    <tr>\n      <th>1</th>\n      <td>1</td>\n      <td>Physical or social distancing</td>\n      <td>social distance</td>\n    </tr>\n    <tr>\n      <th>2</th>\n      <td>1</td>\n      <td>Physical or social distancing</td>\n      <td>socially distance</td>\n    </tr>\n    <tr>\n      <th>3</th>\n      <td>1</td>\n      <td>Physical or social distancing</td>\n      <td>physical distance</td>\n    </tr>\n    <tr>\n      <th>4</th>\n      <td>1</td>\n      <td>Physical or social distancing</td>\n      <td>physical distancing</td>\n    </tr>\n  </tbody>\n</table>\n</div>"
     },
     "metadata": {},
     "execution_count": 3
    }
   ],
   "source": [
    "seedwords = [{\"cat-id\":i+1, \"category\":line.split(':')[0], \"seed\":seed} \n",
    "            for i,line in enumerate(open('seeds.txt','r')) \n",
    "            for seed in line.split(':')[1].strip().split(',')]\n",
    "\n",
    "seeds = pd.DataFrame(seedwords)\n",
    "seeds.head()"
   ]
  },
  {
   "source": [
    "# dataframe of if keyword exists in cleaned text"
   ],
   "cell_type": "markdown",
   "metadata": {}
  },
  {
   "cell_type": "code",
   "execution_count": 4,
   "metadata": {},
   "outputs": [
    {
     "output_type": "execute_result",
     "data": {
      "text/plain": [
       "                       created_at sentiment statefips countyfips  \\\n",
       "0  Mon Feb 10 07:03:44 +0000 2020  POSITIVE      32.0        3.0   \n",
       "1  Mon Feb 10 07:04:49 +0000 2020  POSITIVE      36.0       81.0   \n",
       "2  Mon Feb 10 07:05:30 +0000 2020  POSITIVE       4.0       13.0   \n",
       "3  Mon Feb 10 07:10:48 +0000 2020  NEGATIVE       5.0      119.0   \n",
       "4  Mon Feb 10 07:11:11 +0000 2020  NEGATIVE       5.0      119.0   \n",
       "\n",
       "                                           cleantext  social distancing  \\\n",
       "0               have mocha avoid coronavirus airport                  0   \n",
       "1                                   heart beat china                  0   \n",
       "2  people stop sister street fun wearing mask s a...                  0   \n",
       "3     coronavirus death toll surpass number fatal...                  0   \n",
       "4     coronavirus case aboard japanese cruise shi...                  0   \n",
       "\n",
       "   social distance  socially distance  physical distance  physical distancing  \\\n",
       "0                0                  0                  0                    0   \n",
       "1                0                  0                  0                    0   \n",
       "2                0                  0                  0                    0   \n",
       "3                0                  0                  0                    0   \n",
       "4                0                  0                  0                    0   \n",
       "\n",
       "   ...  antibody test  asymptomatic  diagnostic testing  fever  virtual  \\\n",
       "0  ...              0             0                   0      0        0   \n",
       "1  ...              0             0                   0      0        0   \n",
       "2  ...              0             0                   0      0        0   \n",
       "3  ...              0             0                   0      0        0   \n",
       "4  ...              0             0                   0      0        0   \n",
       "\n",
       "   online  screen  disposable  barriers  exposure  \n",
       "0       0       0           0         0         0  \n",
       "1       0       0           0         0         0  \n",
       "2       0       0           0         0         0  \n",
       "3       0       0           0         0         0  \n",
       "4       0       0           0         0         0  \n",
       "\n",
       "[5 rows x 104 columns]"
      ],
      "text/html": "<div>\n<style scoped>\n    .dataframe tbody tr th:only-of-type {\n        vertical-align: middle;\n    }\n\n    .dataframe tbody tr th {\n        vertical-align: top;\n    }\n\n    .dataframe thead th {\n        text-align: right;\n    }\n</style>\n<table border=\"1\" class=\"dataframe\">\n  <thead>\n    <tr style=\"text-align: right;\">\n      <th></th>\n      <th>created_at</th>\n      <th>sentiment</th>\n      <th>statefips</th>\n      <th>countyfips</th>\n      <th>cleantext</th>\n      <th>social distancing</th>\n      <th>social distance</th>\n      <th>socially distance</th>\n      <th>physical distance</th>\n      <th>physical distancing</th>\n      <th>...</th>\n      <th>antibody test</th>\n      <th>asymptomatic</th>\n      <th>diagnostic testing</th>\n      <th>fever</th>\n      <th>virtual</th>\n      <th>online</th>\n      <th>screen</th>\n      <th>disposable</th>\n      <th>barriers</th>\n      <th>exposure</th>\n    </tr>\n  </thead>\n  <tbody>\n    <tr>\n      <th>0</th>\n      <td>Mon Feb 10 07:03:44 +0000 2020</td>\n      <td>POSITIVE</td>\n      <td>32.0</td>\n      <td>3.0</td>\n      <td>have mocha avoid coronavirus airport</td>\n      <td>0</td>\n      <td>0</td>\n      <td>0</td>\n      <td>0</td>\n      <td>0</td>\n      <td>...</td>\n      <td>0</td>\n      <td>0</td>\n      <td>0</td>\n      <td>0</td>\n      <td>0</td>\n      <td>0</td>\n      <td>0</td>\n      <td>0</td>\n      <td>0</td>\n      <td>0</td>\n    </tr>\n    <tr>\n      <th>1</th>\n      <td>Mon Feb 10 07:04:49 +0000 2020</td>\n      <td>POSITIVE</td>\n      <td>36.0</td>\n      <td>81.0</td>\n      <td>heart beat china</td>\n      <td>0</td>\n      <td>0</td>\n      <td>0</td>\n      <td>0</td>\n      <td>0</td>\n      <td>...</td>\n      <td>0</td>\n      <td>0</td>\n      <td>0</td>\n      <td>0</td>\n      <td>0</td>\n      <td>0</td>\n      <td>0</td>\n      <td>0</td>\n      <td>0</td>\n      <td>0</td>\n    </tr>\n    <tr>\n      <th>2</th>\n      <td>Mon Feb 10 07:05:30 +0000 2020</td>\n      <td>POSITIVE</td>\n      <td>4.0</td>\n      <td>13.0</td>\n      <td>people stop sister street fun wearing mask s a...</td>\n      <td>0</td>\n      <td>0</td>\n      <td>0</td>\n      <td>0</td>\n      <td>0</td>\n      <td>...</td>\n      <td>0</td>\n      <td>0</td>\n      <td>0</td>\n      <td>0</td>\n      <td>0</td>\n      <td>0</td>\n      <td>0</td>\n      <td>0</td>\n      <td>0</td>\n      <td>0</td>\n    </tr>\n    <tr>\n      <th>3</th>\n      <td>Mon Feb 10 07:10:48 +0000 2020</td>\n      <td>NEGATIVE</td>\n      <td>5.0</td>\n      <td>119.0</td>\n      <td>coronavirus death toll surpass number fatal...</td>\n      <td>0</td>\n      <td>0</td>\n      <td>0</td>\n      <td>0</td>\n      <td>0</td>\n      <td>...</td>\n      <td>0</td>\n      <td>0</td>\n      <td>0</td>\n      <td>0</td>\n      <td>0</td>\n      <td>0</td>\n      <td>0</td>\n      <td>0</td>\n      <td>0</td>\n      <td>0</td>\n    </tr>\n    <tr>\n      <th>4</th>\n      <td>Mon Feb 10 07:11:11 +0000 2020</td>\n      <td>NEGATIVE</td>\n      <td>5.0</td>\n      <td>119.0</td>\n      <td>coronavirus case aboard japanese cruise shi...</td>\n      <td>0</td>\n      <td>0</td>\n      <td>0</td>\n      <td>0</td>\n      <td>0</td>\n      <td>...</td>\n      <td>0</td>\n      <td>0</td>\n      <td>0</td>\n      <td>0</td>\n      <td>0</td>\n      <td>0</td>\n      <td>0</td>\n      <td>0</td>\n      <td>0</td>\n      <td>0</td>\n    </tr>\n  </tbody>\n</table>\n<p>5 rows × 104 columns</p>\n</div>"
     },
     "metadata": {},
     "execution_count": 4
    }
   ],
   "source": [
    "seedsdf = raw[['created_at', 'sentiment', 'statefips', 'countyfips', 'cleantext']]\n",
    "\n",
    "seedlist = []\n",
    "\n",
    "for seed in seeds['seed']:\n",
    "\n",
    "    seedbools = [1 if str(seed) in str(text) else 0 for text in seedsdf['cleantext']]\n",
    "\n",
    "    seedsdf[seed] = seedbools\n",
    "\n",
    "    seedlist.append(seedbools)\n",
    "\n",
    "seedsdf.head()"
   ]
  },
  {
   "source": [
    "# keywords with highest occurance"
   ],
   "cell_type": "markdown",
   "metadata": {}
  },
  {
   "cell_type": "code",
   "execution_count": 5,
   "metadata": {},
   "outputs": [
    {
     "output_type": "execute_result",
     "data": {
      "text/plain": [
       "test                 15228\n",
       "mask                  9233\n",
       "stay home             9159\n",
       "social distancing     8812\n",
       "ppe                   8405\n",
       "quarantine            4705\n",
       "wear mask             2888\n",
       "fear                  2763\n",
       "testing               2369\n",
       "social distance       2231\n",
       "worry                 2014\n",
       "clean                 1562\n",
       "online                1370\n",
       "sanitize              1021\n",
       "virtual                938\n",
       "screen                 747\n",
       "hand sanitizer         678\n",
       "respirator             647\n",
       "disinfect              642\n",
       "isolation              613\n",
       "dtype: int64"
      ]
     },
     "metadata": {},
     "execution_count": 5
    }
   ],
   "source": [
    "seedsdf.iloc[:,5:].sum(axis=0).sort_values(ascending=False)[0:20]"
   ]
  },
  {
   "source": [
    "# keywords with lowest occurances"
   ],
   "cell_type": "markdown",
   "metadata": {}
  },
  {
   "cell_type": "code",
   "execution_count": 6,
   "metadata": {},
   "outputs": [
    {
     "output_type": "execute_result",
     "data": {
      "text/plain": [
       "mental stress                        0\n",
       "concentrates                         0\n",
       "barriers                             0\n",
       "routine cleaning                     0\n",
       "regular cleaning and disinfecting    0\n",
       "symptom screening                    0\n",
       "skin protection                      0\n",
       "wearing gloves                       0\n",
       "N95 respirator                       0\n",
       "Social support                       0\n",
       "wear a mask                          0\n",
       "socially connected                   0\n",
       "school isolation                     0\n",
       "stay-at-home                         0\n",
       "6-feet                               0\n",
       "prevention hygiene                   0\n",
       "physical barriers                    0\n",
       "duration of contact                  0\n",
       "emotional well-being                 0\n",
       "mental well-being                    0\n",
       "6 feet apart                         0\n",
       "continuity of health care            0\n",
       "virtual meetings                     0\n",
       "physically active                    1\n",
       "personal protection equipment        1\n",
       "sexual exploitation                  1\n",
       "cyberbullying                        1\n",
       "intimate partner violence            1\n",
       "clean hands                          1\n",
       "bleach solution                      2\n",
       "dtype: int64"
      ]
     },
     "metadata": {},
     "execution_count": 6
    }
   ],
   "source": [
    "seedsdf.iloc[:,5:].sum(axis=0).sort_values(ascending=True)[0:30]"
   ]
  },
  {
   "source": [
    "# tweets with top number of keywords included"
   ],
   "cell_type": "markdown",
   "metadata": {}
  },
  {
   "cell_type": "code",
   "execution_count": 7,
   "metadata": {},
   "outputs": [
    {
     "output_type": "execute_result",
     "data": {
      "text/plain": [
       "68574     7\n",
       "21040     7\n",
       "91755     6\n",
       "258807    6\n",
       "73749     6\n",
       "96618     6\n",
       "10562     6\n",
       "167584    6\n",
       "74071     6\n",
       "87695     6\n",
       "dtype: int64"
      ]
     },
     "metadata": {},
     "execution_count": 7
    }
   ],
   "source": [
    "seedsdf.iloc[:,5:].sum(axis=1).sort_values(ascending=False)[0:10]"
   ]
  },
  {
   "source": [
    "# number of tweets that have a keyword"
   ],
   "cell_type": "markdown",
   "metadata": {}
  },
  {
   "cell_type": "code",
   "execution_count": 8,
   "metadata": {},
   "outputs": [
    {
     "output_type": "execute_result",
     "data": {
      "text/plain": [
       "64394"
      ]
     },
     "metadata": {},
     "execution_count": 8
    }
   ],
   "source": [
    "tweet_occurance = seedsdf.iloc[:,5:].sum(axis=1).sort_values(ascending=False)\n",
    "len(tweet_occurance[tweet_occurance > 0].index)"
   ]
  },
  {
   "source": [
    "# extra irrelevant code..."
   ],
   "cell_type": "markdown",
   "metadata": {}
  },
  {
   "cell_type": "code",
   "execution_count": 5,
   "metadata": {},
   "outputs": [],
   "source": [
    "seedsdf.to_csv('found_seeds.tweets.csv', index=False)"
   ]
  },
  {
   "cell_type": "code",
   "execution_count": 1,
   "metadata": {
    "tags": []
   },
   "outputs": [],
   "source": [
    "# def check_cat(text, seedlist):\n",
    "#     for seed in seedlist:\n",
    "#         if str(seed) in text:\n",
    "#             return 1\n",
    "#     return 0\n",
    "\n",
    "# \n",
    "\n",
    "# for i in range(7):\n",
    "#     catdf[f'cat-i'] = [check_cat(str(text), seeds[seeds['cat-id'] == i+1])\n",
    "#                         for text in catdf['cleantext']]\n",
    "\n",
    "# catdf.head()\n",
    "\n",
    "# catdf = raw[['created_at', 'sentiment', 'statefips', 'countyfips', 'cleantext']]\n",
    "\n",
    "# for i in range(7):\n",
    "#     catdf[f'cat-{i+1}'] = False\n",
    "\n",
    "# for row in seedsdf.itertuples():\n",
    "#     Ntotal = 0\n",
    "#     for i in range(7):\n",
    "#         cat = False\n",
    "#         Ncat = len(seeds[seeds['cat-id'] == i+1])\n",
    "#         for seed in row[6+Ntotal:6+Ntotal+Ncat]:\n",
    "#             if seed == 1:\n",
    "#                 cat = True\n",
    "#         catdf.loc[row[0], f'cat-{i+1}'] = cat\n",
    "        "
   ]
  },
  {
   "cell_type": "code",
   "execution_count": 24,
   "metadata": {
    "tags": []
   },
   "outputs": [
    {
     "output_type": "stream",
     "name": "stdout",
     "text": "[19, 18, 2, 17, 16, 5, 24]\n"
    }
   ],
   "source": [
    "Nseeds = [len(seeds[seeds['cat-id'] == i+1]) for i in range(7)]\n",
    "Ntext = len(seedlist[0])\n",
    "\n",
    "print(Nseeds)\n",
    "\n",
    "for k in range(Ntext): # for each text\n",
    "    N = 0\n",
    "    for i, seedlen in enumerate(Nseeds):\n",
    "        for seed in seedlist[N:N+seedlen]:\n",
    "            print(seed)\n",
    "            # if seed[k] == 1:\n",
    "                \n",
    "        N += seedlen\n",
    "\n",
    "\n"
   ]
  }
 ]
}